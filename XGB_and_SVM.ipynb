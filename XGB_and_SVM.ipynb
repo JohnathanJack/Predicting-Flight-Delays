{
 "cells": [
  {
   "cell_type": "code",
   "execution_count": 1,
   "id": "c2fbd335-eab3-4933-9b35-b99a9eea022c",
   "metadata": {},
   "outputs": [],
   "source": [
    "import xgboost as xgb\n",
    "import pandas as pd\n",
    "import numpy as np\n",
    "\n",
    "from sklearn.model_selection import train_test_split\n",
    "from sklearn.metrics import r2_score\n",
    "from sklearn.metrics import mean_squared_error\n",
    "from sklearn.metrics import mean_absolute_error"
   ]
  },
  {
   "cell_type": "code",
   "execution_count": 2,
   "id": "ea4b5dc1-74c7-4197-a138-418cbe516c34",
   "metadata": {},
   "outputs": [],
   "source": [
    "flight_df = pd.read_feather('data/v2_clean_flight')\n",
    "flight_test_df = pd.read_feather('data/v1_clean_flight_test')\n",
    "fuel_consumption_df = pd.read_feather('data/v1_clean_fuel_consumption')\n",
    "passenger_df = pd.read_feather('data/v1_clean_passenger')"
   ]
  },
  {
   "cell_type": "code",
   "execution_count": 3,
   "id": "d573c5f2-9d99-488a-8fa9-753f1d72fb7e",
   "metadata": {},
   "outputs": [],
   "source": [
    "flight_model_df = flight_df[['dest','month','arr_delay','distance','state/country']]\n",
    "cat_col = ['dest','month','state/country']\n",
    "num_col = ['distance']\n",
    "\n",
    "dummies = pd.get_dummies(flight_model_df,columns = cat_col)\n",
    "dummies.dropna(inplace=True)\n",
    "y_target = dummies[['arr_delay']].copy()\n",
    "dummies.drop('arr_delay',axis=1,inplace=True)"
   ]
  },
  {
   "cell_type": "code",
   "execution_count": 4,
   "id": "d5447ce4-baa2-497d-817e-a17951890281",
   "metadata": {},
   "outputs": [],
   "source": [
    "x_train,x_test,y_train,y_test = train_test_split(dummies, y_target ,test_size=0.3)"
   ]
  },
  {
   "cell_type": "code",
   "execution_count": 5,
   "id": "0421b13a-24ff-4655-8393-06da53b77498",
   "metadata": {},
   "outputs": [],
   "source": [
    "xg_reg = xgb.XGBRegressor(objective ='reg:linear',\n",
    "                          colsample_bytree = 0.3,\n",
    "                          learning_rate = 0.1, \n",
    "                          max_depth = 5, alpha = 10, n_estimators = 10)"
   ]
  },
  {
   "cell_type": "code",
   "execution_count": 6,
   "id": "8c5ed18c-ce3e-4c03-9edb-24465d89949e",
   "metadata": {},
   "outputs": [
    {
     "name": "stdout",
     "output_type": "stream",
     "text": [
      "[14:57:35] WARNING: c:\\users\\dev-admin\\croot2\\xgboost-split_1675461376218\\work\\src\\objective\\regression_obj.cu:213: reg:linear is now deprecated in favor of reg:squarederror.\n"
     ]
    }
   ],
   "source": [
    "xg_reg.fit(x_train,y_train)\n",
    "preds = xg_reg.predict(x_test)"
   ]
  },
  {
   "cell_type": "code",
   "execution_count": 7,
   "id": "a9b33548-ea16-43ce-a6c3-9bfe8066219f",
   "metadata": {},
   "outputs": [],
   "source": [
    "# Mean Squared Error (MSE)\n",
    "# Root-Mean-Squared-Error (RMSE)\n",
    "# Mean-Absolute-Error (MAE)\n",
    "# R² or Coefficient of Determination\n",
    "# Adjusted R²"
   ]
  },
  {
   "cell_type": "code",
   "execution_count": 8,
   "id": "f48adfad-f364-4131-9378-952efd38c174",
   "metadata": {},
   "outputs": [
    {
     "data": {
      "text/plain": [
       "0.0022972909980746303"
      ]
     },
     "execution_count": 8,
     "metadata": {},
     "output_type": "execute_result"
    }
   ],
   "source": [
    "r2_score(y_test,preds)"
   ]
  },
  {
   "cell_type": "code",
   "execution_count": 9,
   "id": "de82b122-9b5f-460a-81cd-9d1b39c5ca04",
   "metadata": {},
   "outputs": [
    {
     "data": {
      "text/plain": [
       "2427.805617566375"
      ]
     },
     "execution_count": 9,
     "metadata": {},
     "output_type": "execute_result"
    }
   ],
   "source": [
    "# MSE\n",
    "mean_squared_error(y_test,preds)"
   ]
  },
  {
   "cell_type": "code",
   "execution_count": 10,
   "id": "0aad283b-dafd-40a1-a4f2-173bac5b2458",
   "metadata": {},
   "outputs": [
    {
     "data": {
      "text/plain": [
       "49.27276750464068"
      ]
     },
     "execution_count": 10,
     "metadata": {},
     "output_type": "execute_result"
    }
   ],
   "source": [
    "# RMSE\n",
    "mean_squared_error(y_test,preds, squared=False)"
   ]
  },
  {
   "cell_type": "code",
   "execution_count": 11,
   "id": "b374f80f-cb8d-4a81-b0ed-d66b53f15655",
   "metadata": {},
   "outputs": [],
   "source": [
    "# MAE\n",
    "mean_absolute_error(y_test,preds)"
   ]
  },
  {
   "cell_type": "code",
   "execution_count": 14,
   "id": "bc902214-d302-4215-85e1-6d85c3b6e0db",
   "metadata": {},
   "outputs": [],
   "source": [
    "# ---- Linear SVM ----- "
   ]
  },
  {
   "cell_type": "code",
   "execution_count": 15,
   "id": "5686e661-b07a-4106-85ff-34161c80e24e",
   "metadata": {},
   "outputs": [
    {
     "name": "stderr",
     "output_type": "stream",
     "text": [
      "c:\\Users\\John\\anaconda3\\envs\\py_test_env\\lib\\site-packages\\sklearn\\utils\\validation.py:1141: DataConversionWarning: A column-vector y was passed when a 1d array was expected. Please change the shape of y to (n_samples, ), for example using ravel().\n",
      "  y = column_or_1d(y, warn=True)\n"
     ]
    }
   ],
   "source": [
    "# #Import svm model\n",
    "# from sklearn import svm\n",
    "\n",
    "# #Create a svm Classifier\n",
    "# clf = svm.SVR(kernel='linear') # Linear Kernel\n",
    "\n",
    "# #Train the model using the training sets\n",
    "# clf.fit(x_train, y_train)\n",
    "\n",
    "# #Predict the response for test dataset\n",
    "# y_pred = clf.predict(x_test)"
   ]
  },
  {
   "cell_type": "code",
   "execution_count": null,
   "id": "9e628897-4db5-45b4-be44-69b78c55912a",
   "metadata": {},
   "outputs": [],
   "source": [
    "# r2_score(y_test,y_pred)"
   ]
  },
  {
   "cell_type": "code",
   "execution_count": null,
   "id": "01156ee4-c69f-47ee-bbf9-70c9f2676ee5",
   "metadata": {},
   "outputs": [],
   "source": []
  }
 ],
 "metadata": {
  "kernelspec": {
   "display_name": "py_test_env",
   "language": "python",
   "name": "python3"
  },
  "language_info": {
   "codemirror_mode": {
    "name": "ipython",
    "version": 3
   },
   "file_extension": ".py",
   "mimetype": "text/x-python",
   "name": "python",
   "nbconvert_exporter": "python",
   "pygments_lexer": "ipython3",
   "version": "3.9.15"
  },
  "vscode": {
   "interpreter": {
    "hash": "6eb05ff5f08e5d2301c774ad8a6837cae4f8b061b9b5708f7fb002f42c722a83"
   }
  }
 },
 "nbformat": 4,
 "nbformat_minor": 5
}
