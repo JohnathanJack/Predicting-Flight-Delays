{
 "cells": [
  {
   "cell_type": "code",
   "execution_count": 6,
   "metadata": {},
   "outputs": [],
   "source": [
    "import pandas as pd\n",
    "import numpy as np\n",
    "import matplotlib.pyplot as plt\n",
    "from sklearn.model_selection import train_test_split,GridSearchCV\n",
    "from sklearn.ensemble import RandomForestRegressor\n",
    "from sklearn.preprocessing import StandardScaler\n",
    "from sklearn.metrics import r2_score\n",
    "import grab_weather_stats\n",
    "import os\n",
    "import requests\n",
    "import json\n",
    "\n",
    "pd.set_option('display.max_columns',None)\n",
    "scaler = StandardScaler()"
   ]
  },
  {
   "cell_type": "code",
   "execution_count": 7,
   "metadata": {},
   "outputs": [],
   "source": [
    "flight_df = pd.read_feather('data/v2_clean_flight')\n",
    "flight_test_df = pd.read_feather('data/v1_clean_flight_test')\n",
    "fuel_consumption_df = pd.read_feather('data/v1_clean_fuel_consumption')\n",
    "passenger_df = pd.read_feather('data/v1_clean_passenger')"
   ]
  },
  {
   "cell_type": "code",
   "execution_count": 8,
   "metadata": {},
   "outputs": [],
   "source": [
    "def duration_to_rank(x):\n",
    "    \"\"\" \n",
    "    Transforms the rank of a flight distance\n",
    "\n",
    "    Parameters:\n",
    "        x(str): short,medium or long flight distance\n",
    "\n",
    "    Returns:\n",
    "        An integer of 0, 1 or 2 depending on their flight distance\n",
    "    \"\"\"\n",
    "    if x == 'short':\n",
    "        return 0\n",
    "    elif x =='medium':\n",
    "        return 1\n",
    "    else:\n",
    "        return 2\n",
    "\n",
    "flight_df['flight_duration'] = flight_df['flight_duration'].apply(lambda x: duration_to_rank(x))"
   ]
  },
  {
   "cell_type": "code",
   "execution_count": 11,
   "metadata": {},
   "outputs": [],
   "source": [
    "num_cols = ['crs_elapsed_time','distance']\n",
    "rank_cols = ['month','flight_duration','hour']\n",
    "dum_cols = ['origin','dest']\n",
    "y_target = flight_df['arr_delay'].fillna(0)"
   ]
  },
  {
   "cell_type": "code",
   "execution_count": null,
   "metadata": {},
   "outputs": [],
   "source": [
    "flight_model = flight_df[['crs_elapsed_time','distance','month','flight_duration','hour','origin','dest']]\n",
    "flight_model = pd.get_dummies(flight_model, columns=dum_cols)\n",
    "flight_model"
   ]
  },
  {
   "cell_type": "code",
   "execution_count": 13,
   "metadata": {},
   "outputs": [],
   "source": [
    "x_train,x_test,y_train,y_test = train_test_split(flight_model,y_target,test_size=0.3)"
   ]
  },
  {
   "cell_type": "code",
   "execution_count": 14,
   "metadata": {},
   "outputs": [],
   "source": [
    "x_train_scaled = scaler.fit_transform(x_train[num_cols])\n",
    "x_test_scaled = scaler.fit_transform(x_test[num_cols])\n",
    "x_train[num_cols] = x_train_scaled\n",
    "x_test[num_cols] = x_test_scaled"
   ]
  },
  {
   "cell_type": "code",
   "execution_count": 16,
   "metadata": {},
   "outputs": [],
   "source": [
    "## Took 67minutes to run this fit. best params was squared error, max_depth 2, n_estimators = 50\n",
    "\n",
    "# param_grid = {\n",
    "#     'max_depth': [2,3,4,5,6],\n",
    "#     'criterion': ['absoulate_error','squared_error'],\n",
    "#     'n_estimators': [10,30,50,70,100]\n",
    "# }\n",
    "# rforest = RandomForestRegressor()\n",
    "# regCV = GridSearchCV(estimator=rforest,cv=5,param_grid=param_grid,return_train_score=True)\n",
    "# regCV.fit(x_train,y_train)\n",
    "# regCV.best_params_ (best params depth 2, n_est 50)"
   ]
  },
  {
   "cell_type": "code",
   "execution_count": null,
   "metadata": {},
   "outputs": [],
   "source": [
    "regressor = RandomForestRegressor(random_state=0,max_depth=2,n_estimators=50)\n",
    "regressor.fit(x_train,y_train)\n",
    "y_pred = regressor.predict(x_test)\n",
    "r2_score(y_test,y_pred)"
   ]
  },
  {
   "cell_type": "markdown",
   "metadata": {},
   "source": [
    "# 500 Entries of weather stats for model"
   ]
  },
  {
   "attachments": {},
   "cell_type": "markdown",
   "metadata": {},
   "source": [
    "Only used 500 entries of weather data, did not have any good value adding it into the model"
   ]
  },
  {
   "cell_type": "code",
   "execution_count": null,
   "metadata": {},
   "outputs": [],
   "source": [
    "# weather_flight_model = flight_df[:500].copy()\n",
    "# weather_flight_model"
   ]
  },
  {
   "cell_type": "code",
   "execution_count": null,
   "metadata": {},
   "outputs": [],
   "source": [
    "# lat_list,lon_list = grab_weather_stats.lat_grabber(weather_flight_model)"
   ]
  },
  {
   "cell_type": "code",
   "execution_count": null,
   "metadata": {},
   "outputs": [],
   "source": [
    "# weather_flight_model['lat'] = lat_list\n",
    "# weather_flight_model['lon'] = lon_list"
   ]
  },
  {
   "cell_type": "code",
   "execution_count": null,
   "metadata": {},
   "outputs": [],
   "source": [
    "# cloud,rain,snow,sunny = grab_weather_stats.weather_grabber(weather_flight_model)"
   ]
  },
  {
   "cell_type": "code",
   "execution_count": 67,
   "metadata": {},
   "outputs": [],
   "source": [
    "# small_weather_model = weather_flight_model[:500].copy()\n",
    "# small_weather_model['cloud'] = cloud\n",
    "# small_weather_model['sunny'] = sunny\n",
    "# small_weather_model['snow'] = snow\n",
    "# small_weather_model['rain'] = rain"
   ]
  },
  {
   "cell_type": "code",
   "execution_count": 69,
   "metadata": {},
   "outputs": [],
   "source": [
    "#small_weather_model.to_feather('data/flight_weather_model_500')"
   ]
  },
  {
   "cell_type": "code",
   "execution_count": null,
   "metadata": {},
   "outputs": [],
   "source": [
    "# num_cols = ['crs_elapsed_time','distance','cloud','sunny','rain','snow']\n",
    "# rank_cols = ['month','flight_duration','hour']\n",
    "# dum_cols = ['origin','dest']\n",
    "# y_target_weather = flight_df['arr_delay'].fillna(0)[:500]\n",
    "# small_weather_model = small_weather_model[['crs_elapsed_time','distance','cloud','sunny','rain','snow','month','flight_duration','hour','origin','dest']]\n",
    "# small_weather_model"
   ]
  },
  {
   "cell_type": "code",
   "execution_count": null,
   "metadata": {},
   "outputs": [],
   "source": [
    "# small_weather_model = pd.get_dummies(small_weather_model,columns=dum_cols)\n",
    "# small_weather_model"
   ]
  },
  {
   "cell_type": "code",
   "execution_count": 61,
   "metadata": {},
   "outputs": [],
   "source": [
    "# x_train,x_test,y_train,y_test = train_test_split(small_weather_model,y_target_weather,test_size=0.3)\n",
    "# x_train_scaled = scaler.fit_transform(x_train[num_cols])\n",
    "# x_test_scaled = scaler.fit_transform(x_test[num_cols])"
   ]
  },
  {
   "cell_type": "code",
   "execution_count": 62,
   "metadata": {},
   "outputs": [],
   "source": [
    "# x_train[num_cols] = x_train_scaled\n",
    "# x_test[num_cols] = x_test_scaled\n",
    "# regressor = RandomForestRegressor(n_estimators=100,random_state=0)\n",
    "# regressor.fit(x_train,y_train)\n",
    "# y_pred = regressor.predict(x_test)"
   ]
  },
  {
   "cell_type": "code",
   "execution_count": 63,
   "metadata": {},
   "outputs": [
    {
     "data": {
      "text/plain": [
       "-0.2661480866278345"
      ]
     },
     "execution_count": 63,
     "metadata": {},
     "output_type": "execute_result"
    }
   ],
   "source": [
    "# r2_score(y_test,y_pred)"
   ]
  },
  {
   "cell_type": "code",
   "execution_count": null,
   "metadata": {},
   "outputs": [],
   "source": []
  }
 ],
 "metadata": {
  "kernelspec": {
   "display_name": "Python 3 (ipykernel)",
   "language": "python",
   "name": "python3"
  },
  "language_info": {
   "codemirror_mode": {
    "name": "ipython",
    "version": 3
   },
   "file_extension": ".py",
   "mimetype": "text/x-python",
   "name": "python",
   "nbconvert_exporter": "python",
   "pygments_lexer": "ipython3",
   "version": "3.9.13"
  },
  "vscode": {
   "interpreter": {
    "hash": "6eb05ff5f08e5d2301c774ad8a6837cae4f8b061b9b5708f7fb002f42c722a83"
   }
  }
 },
 "nbformat": 4,
 "nbformat_minor": 4
}
