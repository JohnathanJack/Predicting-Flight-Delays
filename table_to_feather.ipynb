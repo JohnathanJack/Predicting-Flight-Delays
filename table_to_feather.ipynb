{
 "cells": [
  {
   "cell_type": "code",
   "execution_count": 1,
   "metadata": {},
   "outputs": [],
   "source": [
    "import pandas as pd\n",
    "import numpy as np\n",
    "import psycopg2\n",
    "import pandas.io.sql as sqlio"
   ]
  },
  {
   "cell_type": "code",
   "execution_count": 2,
   "metadata": {},
   "outputs": [],
   "source": [
    "con = psycopg2.connect(database='mid_term_project',user='lhl_student',password='lhl_student',host='lhl-data-bootcamp.crzjul5qln0e.ca-central-1.rds.amazonaws.com',port='5432')\n"
   ]
  },
  {
   "cell_type": "code",
   "execution_count": 3,
   "metadata": {},
   "outputs": [
    {
     "name": "stderr",
     "output_type": "stream",
     "text": [
      "C:\\Users\\John\\AppData\\Local\\Temp\\ipykernel_11004\\4151306665.py:1: UserWarning: pandas only supports SQLAlchemy connectable (engine/connection) or database string URI or sqlite3 DBAPI2 connection. Other DBAPI2 objects are not tested. Please consider using SQLAlchemy.\n",
      "  df_passenger = sqlio.read_sql_query('SELECT * FROM passengers LIMIT 100000',con)\n",
      "C:\\Users\\John\\AppData\\Local\\Temp\\ipykernel_11004\\4151306665.py:2: UserWarning: pandas only supports SQLAlchemy connectable (engine/connection) or database string URI or sqlite3 DBAPI2 connection. Other DBAPI2 objects are not tested. Please consider using SQLAlchemy.\n",
      "  df_flights = sqlio.read_sql_query('SELECT * FROM flights LIMIT 100000',con)\n",
      "C:\\Users\\John\\AppData\\Local\\Temp\\ipykernel_11004\\4151306665.py:3: UserWarning: pandas only supports SQLAlchemy connectable (engine/connection) or database string URI or sqlite3 DBAPI2 connection. Other DBAPI2 objects are not tested. Please consider using SQLAlchemy.\n",
      "  df_fuel_consumption = sqlio.read_sql('SELECT * FROM fuel_comsumption LIMIT 100000',con)\n",
      "C:\\Users\\John\\AppData\\Local\\Temp\\ipykernel_11004\\4151306665.py:4: UserWarning: pandas only supports SQLAlchemy connectable (engine/connection) or database string URI or sqlite3 DBAPI2 connection. Other DBAPI2 objects are not tested. Please consider using SQLAlchemy.\n",
      "  df_flight_test = sqlio.read_sql('SELECT * FROM flights_test LIMIT 100000',con)\n"
     ]
    }
   ],
   "source": [
    "df_passenger = sqlio.read_sql_query('SELECT * FROM passengers LIMIT 100000',con)\n",
    "df_flights = sqlio.read_sql_query('SELECT * FROM flights LIMIT 100000',con)\n",
    "df_fuel_consumption = sqlio.read_sql('SELECT * FROM fuel_comsumption LIMIT 100000',con)\n",
    "df_flight_test = sqlio.read_sql('SELECT * FROM flights_test LIMIT 100000',con)"
   ]
  },
  {
   "cell_type": "code",
   "execution_count": 4,
   "metadata": {},
   "outputs": [],
   "source": [
    "df_passenger.to_feather('data/passenger')\n",
    "df_flights.to_feather('data/flights')\n",
    "df_fuel_consumption.to_feather('data/fuel_consumption')\n",
    "df_flight_test.to_feather('data/flight_test')"
   ]
  },
  {
   "cell_type": "code",
   "execution_count": null,
   "metadata": {},
   "outputs": [],
   "source": []
  },
  {
   "cell_type": "code",
   "execution_count": null,
   "metadata": {},
   "outputs": [],
   "source": []
  }
 ],
 "metadata": {
  "kernelspec": {
   "display_name": "py_test_env",
   "language": "python",
   "name": "python3"
  },
  "language_info": {
   "codemirror_mode": {
    "name": "ipython",
    "version": 3
   },
   "file_extension": ".py",
   "mimetype": "text/x-python",
   "name": "python",
   "nbconvert_exporter": "python",
   "pygments_lexer": "ipython3",
   "version": "3.9.15"
  },
  "orig_nbformat": 4,
  "vscode": {
   "interpreter": {
    "hash": "6eb05ff5f08e5d2301c774ad8a6837cae4f8b061b9b5708f7fb002f42c722a83"
   }
  }
 },
 "nbformat": 4,
 "nbformat_minor": 2
}
