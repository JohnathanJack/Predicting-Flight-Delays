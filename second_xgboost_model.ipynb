{
 "cells": [
  {
   "cell_type": "code",
   "execution_count": 391,
   "metadata": {},
   "outputs": [],
   "source": [
    "import xgboost as xgb\n",
    "import pandas as pd\n",
    "import numpy as np\n",
    "\n",
    "from sklearn.model_selection import train_test_split,GridSearchCV\n",
    "from sklearn.preprocessing import StandardScaler\n",
    "from sklearn.metrics import r2_score\n",
    "from sklearn.metrics import mean_squared_error\n",
    "from sklearn.metrics import mean_absolute_error"
   ]
  },
  {
   "cell_type": "code",
   "execution_count": 392,
   "metadata": {},
   "outputs": [],
   "source": [
    "pd.set_option('display.max_columns',None)\n",
    "scaler = StandardScaler()\n",
    "\n",
    "flight_df = pd.read_feather('data/v2_clean_flight')\n",
    "flight_test_df = pd.read_feather('data/v1_clean_flight_test')\n",
    "fuel_consumption_df = pd.read_feather('data/v1_clean_fuel_consumption')\n",
    "passenger_df = pd.read_feather('data/v1_clean_passenger')"
   ]
  },
  {
   "cell_type": "code",
   "execution_count": 393,
   "metadata": {},
   "outputs": [],
   "source": [
    "def duration_to_rank(x):\n",
    "    if x == 'short':\n",
    "        return 0\n",
    "    elif x =='medium':\n",
    "        return 1\n",
    "    else:\n",
    "        return 2"
   ]
  },
  {
   "cell_type": "code",
   "execution_count": 394,
   "metadata": {},
   "outputs": [],
   "source": [
    "flight_df['flight_duration'] = flight_df['flight_duration'].apply(lambda x: duration_to_rank(x))"
   ]
  },
  {
   "cell_type": "code",
   "execution_count": 395,
   "metadata": {},
   "outputs": [],
   "source": [
    "flight_df['day'] = pd.to_datetime(flight_df['fl_date'],yearfirst=True).dt.day\n",
    "flight_df['month'] = flight_df['month'].astype(int)\n",
    "flight_df['hour'] = flight_df['hour'].astype(int)"
   ]
  },
  {
   "cell_type": "code",
   "execution_count": 396,
   "metadata": {},
   "outputs": [],
   "source": [
    "num_cols = ['crs_elapsed_time','distance','month','hour']\n",
    "cat_cols = ['origin','dest','op_unique_carrier']\n",
    "y_target = flight_df['arr_delay'].fillna(0)"
   ]
  },
  {
   "cell_type": "code",
   "execution_count": null,
   "metadata": {},
   "outputs": [],
   "source": [
    "flight_model = flight_df[['crs_elapsed_time','distance','month','hour','origin','dest','op_unique_carrier']]\n",
    "flight_model = pd.get_dummies(flight_model, columns=cat_cols)\n",
    "flight_model"
   ]
  },
  {
   "cell_type": "code",
   "execution_count": 398,
   "metadata": {},
   "outputs": [],
   "source": [
    "x_train,x_test,y_train,y_test = train_test_split(flight_model,y_target,test_size=0.3)"
   ]
  },
  {
   "cell_type": "code",
   "execution_count": 400,
   "metadata": {},
   "outputs": [],
   "source": [
    "#Best parameter is learning_rate 0.1, max_depth 3, n_estimators 50. Took 65minutes to run!, gives r2 of 0.0074\n",
    "\n",
    "# params = {\n",
    "#     'max_depth': [3,4,5,6,7],\n",
    "#     'learning_rate': [0.001,0.01,0.1],\n",
    "#     'n_estimators': [50,70,100,200]\n",
    "# }\n",
    "# xgboost = xgb.XGBRegressor()\n",
    "# regCV = GridSearchCV(estimator=xgboost,cv=5,param_grid=params)\n",
    "# regCV.fit(x_train,y_train)\n",
    "# regCV.best_params_ "
   ]
  },
  {
   "cell_type": "code",
   "execution_count": 401,
   "metadata": {},
   "outputs": [
    {
     "data": {
      "text/plain": [
       "0.013376410496370617"
      ]
     },
     "execution_count": 401,
     "metadata": {},
     "output_type": "execute_result"
    }
   ],
   "source": [
    "xgboost = xgb.XGBRegressor(objective='reg:squarederror', learning_rate=0.1, max_depth=3, n_estimators=50)\n",
    "xgboost.fit(x_train,y_train)\n",
    "y_pred = xgboost.predict(x_test)\n",
    "r2_score(y_test,y_pred)"
   ]
  },
  {
   "cell_type": "code",
   "execution_count": 402,
   "metadata": {},
   "outputs": [],
   "source": [
    "#highest is ~0.013 with 'crs_elapsed_time','distance','month','hour','origin','dest','op_unique_carrier'"
   ]
  }
 ],
 "metadata": {
  "kernelspec": {
   "display_name": "py_test_env",
   "language": "python",
   "name": "python3"
  },
  "language_info": {
   "codemirror_mode": {
    "name": "ipython",
    "version": 3
   },
   "file_extension": ".py",
   "mimetype": "text/x-python",
   "name": "python",
   "nbconvert_exporter": "python",
   "pygments_lexer": "ipython3",
   "version": "3.9.15"
  },
  "orig_nbformat": 4,
  "vscode": {
   "interpreter": {
    "hash": "6eb05ff5f08e5d2301c774ad8a6837cae4f8b061b9b5708f7fb002f42c722a83"
   }
  }
 },
 "nbformat": 4,
 "nbformat_minor": 2
}
