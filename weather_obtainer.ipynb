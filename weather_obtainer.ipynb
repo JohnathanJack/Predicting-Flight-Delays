{
 "cells": [
  {
   "cell_type": "code",
   "execution_count": 2,
   "metadata": {},
   "outputs": [],
   "source": [
    "import numpy as np\n",
    "import pandas as pd\n",
    "import os\n",
    "import json\n",
    "import requests\n",
    "\n",
    "pd.set_option('display.max_columns',None)"
   ]
  },
  {
   "cell_type": "code",
   "execution_count": 3,
   "metadata": {},
   "outputs": [],
   "source": [
    "flight_df = pd.read_feather('data/v2_clean_flight')"
   ]
  },
  {
   "cell_type": "code",
   "execution_count": 4,
   "metadata": {},
   "outputs": [],
   "source": [
    "def lat_lon_api(city):\n",
    "    url = 'http://api.positionstack.com/v1/forward'\n",
    "    position_stack_key = os.environ['position_stack_key']\n",
    "    params = {'query':city,\n",
    "                'access_key':position_stack_key,\n",
    "                'limit': 1}\n",
    "    response = requests.get(url, params=params).json()\n",
    "    return response\n"
   ]
  },
  {
   "cell_type": "code",
   "execution_count": 5,
   "metadata": {},
   "outputs": [],
   "source": [
    "sample_weather_df = flight_df[:100].copy()"
   ]
  },
  {
   "cell_type": "code",
   "execution_count": 6,
   "metadata": {},
   "outputs": [],
   "source": [
    "def lat_grabber(df):\n",
    "    lat_list = []\n",
    "    lon_list = []\n",
    "    for city in df['origin_city_name']:\n",
    "        response = lat_lon_api(city)\n",
    "        # print(city)\n",
    "        # print(response)\n",
    "        if 'latitude' not in response['data'][0]:\n",
    "            lat_list.append('None')\n",
    "        else:\n",
    "            lat = response['data'][0]['latitude']\n",
    "            lat_list.append(lat)\n",
    "        if 'longitude' not in response['data'][0]:\n",
    "            lon_list.append('None')\n",
    "        else:\n",
    "            lon = response['data'][0]['longitude']\n",
    "            lon_list.append(lon)\n",
    "    return lat_list,lon_list"
   ]
  },
  {
   "cell_type": "code",
   "execution_count": 7,
   "metadata": {},
   "outputs": [],
   "source": [
    "lat_list, lon_list = lat_grabber(sample_weather_df)"
   ]
  },
  {
   "cell_type": "code",
   "execution_count": null,
   "metadata": {},
   "outputs": [],
   "source": [
    "sample_weather_df['latitude'] = lat_list\n",
    "sample_weather_df['longitude'] = lon_list\n",
    "sample_weather_df"
   ]
  },
  {
   "cell_type": "code",
   "execution_count": 9,
   "metadata": {},
   "outputs": [],
   "source": [
    "def weather_api(lat,lon,start):\n",
    "    url = 'https://archive-api.open-meteo.com/v1/archive'\n",
    "    params = {'latitude':lat,\n",
    "                'longitude':lon,\n",
    "                'start_date':start,\n",
    "                'end_date':start,\n",
    "                'hourly':'cloudcover',\n",
    "                'daily':['rain_sum','snowfall_sum'],\n",
    "                'timezone': 'America/New_York'\n",
    "                }\n",
    "    response = requests.get(url, params=params).json()\n",
    "    return response"
   ]
  },
  {
   "cell_type": "code",
   "execution_count": 10,
   "metadata": {},
   "outputs": [],
   "source": [
    "def weather_grabber(data):\n",
    "    cloud_list = []\n",
    "    rain_list = []\n",
    "    snow_list = []\n",
    "    sunny_list = []\n",
    "    for info in data.values:\n",
    "        date = info[0]\n",
    "        lat = info[-2]\n",
    "        lon = info[-1]\n",
    "        response = weather_api(lat,lon,date)\n",
    "        cloud = np.mean(response['hourly']['cloudcover'])\n",
    "        sunny = 100 - cloud\n",
    "        cloud_list.append(cloud)\n",
    "        sunny_list.append(sunny)\n",
    "        rain_list.append(response['daily']['rain_sum'][0])\n",
    "        snow_list.append(response['daily']['snowfall_sum'][0])\n",
    "    return cloud_list,rain_list,snow_list,sunny_list"
   ]
  },
  {
   "cell_type": "code",
   "execution_count": 11,
   "metadata": {},
   "outputs": [],
   "source": [
    "cloud,rain,snow,sunny = weather_grabber(sample_weather_df)"
   ]
  },
  {
   "cell_type": "code",
   "execution_count": null,
   "metadata": {},
   "outputs": [],
   "source": [
    "sample_weather_df['cloud(%)'] = cloud\n",
    "sample_weather_df['sunny(%)'] = sunny\n",
    "sample_weather_df['rain'] = rain\n",
    "sample_weather_df['snow'] = snow\n",
    "sample_weather_df"
   ]
  },
  {
   "cell_type": "code",
   "execution_count": 14,
   "metadata": {},
   "outputs": [],
   "source": [
    "sample_weather_df.to_feather('data/flight_weather_100')"
   ]
  },
  {
   "cell_type": "code",
   "execution_count": null,
   "metadata": {},
   "outputs": [],
   "source": []
  }
 ],
 "metadata": {
  "kernelspec": {
   "display_name": "py_test_env",
   "language": "python",
   "name": "python3"
  },
  "language_info": {
   "codemirror_mode": {
    "name": "ipython",
    "version": 3
   },
   "file_extension": ".py",
   "mimetype": "text/x-python",
   "name": "python",
   "nbconvert_exporter": "python",
   "pygments_lexer": "ipython3",
   "version": "3.9.15"
  },
  "orig_nbformat": 4,
  "vscode": {
   "interpreter": {
    "hash": "6eb05ff5f08e5d2301c774ad8a6837cae4f8b061b9b5708f7fb002f42c722a83"
   }
  }
 },
 "nbformat": 4,
 "nbformat_minor": 2
}
